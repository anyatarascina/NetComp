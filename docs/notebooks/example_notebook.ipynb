{
 "cells": [
  {
   "cell_type": "code",
   "execution_count": 1,
   "metadata": {
    "collapsed": true
   },
   "outputs": [
    {
     "name": "stderr",
     "output_type": "stream",
     "text": [
      "/Users/anya/Documents/modules/NetComp/netcomp/distance/exact.py:145: SyntaxWarning: \"is\" with a literal. Did you mean \"==\"?\n",
      "  if kind is 'laplacian':\n",
      "/Users/anya/Documents/modules/NetComp/netcomp/distance/exact.py:150: SyntaxWarning: \"is\" with a literal. Did you mean \"==\"?\n",
      "  elif kind is 'laplacian_norm':\n",
      "/Users/anya/Documents/modules/NetComp/netcomp/distance/exact.py:153: SyntaxWarning: \"is\" with a literal. Did you mean \"==\"?\n",
      "  elif kind is 'adjacency':\n"
     ]
    }
   ],
   "source": [
    "import netcomp as nc\n",
    "import networkx as nx"
   ]
  },
  {
   "cell_type": "markdown",
   "source": [
    "Use networkx to build a sample graph"
   ],
   "metadata": {
    "collapsed": false
   }
  },
  {
   "cell_type": "code",
   "execution_count": 2,
   "outputs": [],
   "source": [
    "G0 = nx.complete_graph(10)\n",
    "G1 = G0.copy()\n",
    "G1.remove_edge(1, 0)\n",
    "G2 = G0.copy()\n",
    "G2.remove_node(0)\n",
    "A, B, C = [nx.adjacency_matrix(G) for G in [G0, G1, G2]]"
   ],
   "metadata": {
    "collapsed": false
   }
  },
  {
   "cell_type": "markdown",
   "source": [
    "Compute matrix distances"
   ],
   "metadata": {
    "collapsed": false
   }
  },
  {
   "cell_type": "code",
   "execution_count": 3,
   "outputs": [
    {
     "data": {
      "text/plain": "0.9818181818181819"
     },
     "execution_count": 3,
     "metadata": {},
     "output_type": "execute_result"
    }
   ],
   "source": [
    "nc.resistance_distance(A, B)\n",
    "nc.edit_distance(A, B)\n",
    "nc.deltacon0(A, B)\n",
    "nc.vertex_edge_distance(A, B)"
   ],
   "metadata": {
    "collapsed": false
   }
  },
  {
   "cell_type": "markdown",
   "source": [
    "Compute spectral distances"
   ],
   "metadata": {
    "collapsed": false
   }
  },
  {
   "cell_type": "code",
   "execution_count": 4,
   "outputs": [
    {
     "data": {
      "text/plain": "0.0"
     },
     "execution_count": 4,
     "metadata": {},
     "output_type": "execute_result"
    }
   ],
   "source": [
    "nc.lambda_dist(A, C)\n",
    "nc.lambda_dist(A, C, kind='adjacency', k=2)\n",
    "nc.lambda_dist(A, C, kind='laplacian_norm')"
   ],
   "metadata": {
    "collapsed": false
   }
  },
  {
   "cell_type": "markdown",
   "source": [
    "Compute other types of distances"
   ],
   "metadata": {
    "collapsed": false
   }
  },
  {
   "cell_type": "code",
   "execution_count": 5,
   "outputs": [
    {
     "name": "stderr",
     "output_type": "stream",
     "text": [
      "/Users/anya/Documents/modules/NetComp/netcomp/distance/features.py:108: RuntimeWarning: Precision loss occurred in moment calculation due to catastrophic cancellation. This occurs when the data are nearly identical. Results may be unreliable.\n",
      "  stats.skew(feature_mat, axis=axis),\n",
      "/Users/anya/Documents/modules/NetComp/netcomp/distance/features.py:109: RuntimeWarning: Precision loss occurred in moment calculation due to catastrophic cancellation. This occurs when the data are nearly identical. Results may be unreliable.\n",
      "  stats.kurtosis(feature_mat, axis=axis)])\n"
     ]
    },
    {
     "data": {
      "text/plain": "nan"
     },
     "execution_count": 5,
     "metadata": {},
     "output_type": "execute_result"
    }
   ],
   "source": [
    "nc.resistance_distance(A, C, renormalized=True)\n",
    "nc.netsimile(A, C)"
   ],
   "metadata": {
    "collapsed": false
   }
  },
  {
   "cell_type": "markdown",
   "source": [
    "Matrices w/o associated distances"
   ],
   "metadata": {
    "collapsed": false
   }
  },
  {
   "cell_type": "code",
   "execution_count": 6,
   "outputs": [
    {
     "data": {
      "text/plain": "array([[0., 5., 5., 5., 5., 5., 5., 5., 5., 5.],\n       [5., 0., 5., 5., 5., 5., 5., 5., 5., 5.],\n       [5., 5., 0., 5., 5., 5., 5., 5., 5., 5.],\n       [5., 5., 5., 0., 5., 5., 5., 5., 5., 5.],\n       [5., 5., 5., 5., 0., 5., 5., 5., 5., 5.],\n       [5., 5., 5., 5., 5., 0., 5., 5., 5., 5.],\n       [5., 5., 5., 5., 5., 5., 0., 5., 5., 5.],\n       [5., 5., 5., 5., 5., 5., 5., 0., 5., 5.],\n       [5., 5., 5., 5., 5., 5., 5., 5., 0., 5.],\n       [5., 5., 5., 5., 5., 5., 5., 5., 5., 0.]])"
     },
     "execution_count": 6,
     "metadata": {},
     "output_type": "execute_result"
    }
   ],
   "source": [
    "nc.commute_matrix(A)\n",
    "nc.conductance_matrix(A)"
   ],
   "metadata": {
    "collapsed": false
   }
  }
 ],
 "metadata": {
  "kernelspec": {
   "display_name": "Python 3",
   "language": "python",
   "name": "python3"
  },
  "language_info": {
   "codemirror_mode": {
    "name": "ipython",
    "version": 2
   },
   "file_extension": ".py",
   "mimetype": "text/x-python",
   "name": "python",
   "nbconvert_exporter": "python",
   "pygments_lexer": "ipython2",
   "version": "2.7.6"
  }
 },
 "nbformat": 4,
 "nbformat_minor": 0
}
